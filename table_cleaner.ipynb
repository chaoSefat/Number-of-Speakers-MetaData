{
 "cells": [
  {
   "cell_type": "code",
   "execution_count": 45,
   "metadata": {},
   "outputs": [
    {
     "data": {
      "text/html": [
       "<div>\n",
       "<style scoped>\n",
       "    .dataframe tbody tr th:only-of-type {\n",
       "        vertical-align: middle;\n",
       "    }\n",
       "\n",
       "    .dataframe tbody tr th {\n",
       "        vertical-align: top;\n",
       "    }\n",
       "\n",
       "    .dataframe thead th {\n",
       "        text-align: right;\n",
       "    }\n",
       "</style>\n",
       "<table border=\"1\" class=\"dataframe\">\n",
       "  <thead>\n",
       "    <tr style=\"text-align: right;\">\n",
       "      <th></th>\n",
       "      <th>Unnamed: 0</th>\n",
       "      <th>Name ▲</th>\n",
       "      <th>Translation</th>\n",
       "      <th>ISO Alpha-2 ▲▼</th>\n",
       "      <th>ISO Alpha-3/5 ▲▼</th>\n",
       "      <th>Speakers worldwide ▲▼</th>\n",
       "      <th>Countries where it is spoken</th>\n",
       "      <th>Additional language information</th>\n",
       "    </tr>\n",
       "  </thead>\n",
       "  <tbody>\n",
       "    <tr>\n",
       "      <th>0</th>\n",
       "      <td>NaN</td>\n",
       "      <td>Name ▲</td>\n",
       "      <td>Translation</td>\n",
       "      <td>ISO Alpha-2 ▲▼</td>\n",
       "      <td>ISO Alpha-3/5 ▲▼</td>\n",
       "      <td>Speakers worldwide ▲▼</td>\n",
       "      <td>Countries where it is spoken</td>\n",
       "      <td>Additional language information</td>\n",
       "    </tr>\n",
       "    <tr>\n",
       "      <th>1</th>\n",
       "      <td>NaN</td>\n",
       "      <td>Name Abadi</td>\n",
       "      <td>Translation Translate a few words in Abadi</td>\n",
       "      <td>ISO Alpha-2 zzzNo data</td>\n",
       "      <td>ISO Alpha-3/5 kbt</td>\n",
       "      <td>Speakers worldwide 2900</td>\n",
       "      <td>Countries where it is spoken  Papua New Guinea</td>\n",
       "      <td>Additional language information wikipedia</td>\n",
       "    </tr>\n",
       "    <tr>\n",
       "      <th>2</th>\n",
       "      <td>NaN</td>\n",
       "      <td>Name Abar</td>\n",
       "      <td>Translation Translate a few words in Abar</td>\n",
       "      <td>ISO Alpha-2 zzzNo data</td>\n",
       "      <td>ISO Alpha-3/5 mij</td>\n",
       "      <td>Speakers worldwide 1900</td>\n",
       "      <td>Countries where it is spoken  Cameroon</td>\n",
       "      <td>Additional language information wikipedia</td>\n",
       "    </tr>\n",
       "    <tr>\n",
       "      <th>3</th>\n",
       "      <td>NaN</td>\n",
       "      <td>Name Abkhazian</td>\n",
       "      <td>Translation Translate a few words in Abkhazian</td>\n",
       "      <td>ISO Alpha-2 ab</td>\n",
       "      <td>ISO Alpha-3/5 abk</td>\n",
       "      <td>Speakers worldwide 113000</td>\n",
       "      <td>Countries where it is spoken  Georgia Jordan S...</td>\n",
       "      <td>Additional language information wikipedia</td>\n",
       "    </tr>\n",
       "    <tr>\n",
       "      <th>4</th>\n",
       "      <td>NaN</td>\n",
       "      <td>Name Abun</td>\n",
       "      <td>Translation Translate a few words in Abun</td>\n",
       "      <td>ISO Alpha-2 zzzNo data</td>\n",
       "      <td>ISO Alpha-3/5 kgr</td>\n",
       "      <td>Speakers worldwide 3000</td>\n",
       "      <td>Countries where it is spoken  Indonesia</td>\n",
       "      <td>Additional language information wikipedia</td>\n",
       "    </tr>\n",
       "  </tbody>\n",
       "</table>\n",
       "</div>"
      ],
      "text/plain": [
       "   Unnamed: 0          Name ▲                                     Translation  \\\n",
       "0         NaN          Name ▲                                     Translation   \n",
       "1         NaN      Name Abadi      Translation Translate a few words in Abadi   \n",
       "2         NaN       Name Abar       Translation Translate a few words in Abar   \n",
       "3         NaN  Name Abkhazian  Translation Translate a few words in Abkhazian   \n",
       "4         NaN       Name Abun       Translation Translate a few words in Abun   \n",
       "\n",
       "           ISO Alpha-2 ▲▼   ISO Alpha-3/5 ▲▼      Speakers worldwide ▲▼  \\\n",
       "0          ISO Alpha-2 ▲▼   ISO Alpha-3/5 ▲▼      Speakers worldwide ▲▼   \n",
       "1  ISO Alpha-2 zzzNo data  ISO Alpha-3/5 kbt    Speakers worldwide 2900   \n",
       "2  ISO Alpha-2 zzzNo data  ISO Alpha-3/5 mij    Speakers worldwide 1900   \n",
       "3          ISO Alpha-2 ab  ISO Alpha-3/5 abk  Speakers worldwide 113000   \n",
       "4  ISO Alpha-2 zzzNo data  ISO Alpha-3/5 kgr    Speakers worldwide 3000   \n",
       "\n",
       "                        Countries where it is spoken  \\\n",
       "0                       Countries where it is spoken   \n",
       "1     Countries where it is spoken  Papua New Guinea   \n",
       "2             Countries where it is spoken  Cameroon   \n",
       "3  Countries where it is spoken  Georgia Jordan S...   \n",
       "4            Countries where it is spoken  Indonesia   \n",
       "\n",
       "             Additional language information  \n",
       "0            Additional language information  \n",
       "1  Additional language information wikipedia  \n",
       "2  Additional language information wikipedia  \n",
       "3  Additional language information wikipedia  \n",
       "4  Additional language information wikipedia  "
      ]
     },
     "execution_count": 45,
     "metadata": {},
     "output_type": "execute_result"
    }
   ],
   "source": [
    "import pandas as pd\n",
    "\n",
    "df = pd.read_csv('table_2.csv')\n",
    "\n",
    "df.head()"
   ]
  },
  {
   "cell_type": "code",
   "execution_count": 46,
   "metadata": {},
   "outputs": [
    {
     "data": {
      "text/plain": [
       "Index(['Unnamed: 0', 'Name ▲', 'Translation', 'ISO Alpha-2 ▲▼',\n",
       "       'ISO Alpha-3/5 ▲▼', 'Speakers worldwide ▲▼',\n",
       "       'Countries where it is spoken', 'Additional language information'],\n",
       "      dtype='object')"
      ]
     },
     "execution_count": 46,
     "metadata": {},
     "output_type": "execute_result"
    }
   ],
   "source": [
    "df.columns"
   ]
  },
  {
   "cell_type": "code",
   "execution_count": 47,
   "metadata": {},
   "outputs": [],
   "source": [
    "df = df[['ISO Alpha-3/5 ▲▼','Name ▲','Speakers worldwide ▲▼']]"
   ]
  },
  {
   "cell_type": "code",
   "execution_count": 48,
   "metadata": {},
   "outputs": [
    {
     "data": {
      "text/html": [
       "<div>\n",
       "<style scoped>\n",
       "    .dataframe tbody tr th:only-of-type {\n",
       "        vertical-align: middle;\n",
       "    }\n",
       "\n",
       "    .dataframe tbody tr th {\n",
       "        vertical-align: top;\n",
       "    }\n",
       "\n",
       "    .dataframe thead th {\n",
       "        text-align: right;\n",
       "    }\n",
       "</style>\n",
       "<table border=\"1\" class=\"dataframe\">\n",
       "  <thead>\n",
       "    <tr style=\"text-align: right;\">\n",
       "      <th></th>\n",
       "      <th>ISO Alpha-3/5 ▲▼</th>\n",
       "      <th>Name ▲</th>\n",
       "      <th>Speakers worldwide ▲▼</th>\n",
       "    </tr>\n",
       "  </thead>\n",
       "  <tbody>\n",
       "    <tr>\n",
       "      <th>0</th>\n",
       "      <td>ISO Alpha-3/5 ▲▼</td>\n",
       "      <td>Name ▲</td>\n",
       "      <td>Speakers worldwide ▲▼</td>\n",
       "    </tr>\n",
       "    <tr>\n",
       "      <th>1</th>\n",
       "      <td>ISO Alpha-3/5 kbt</td>\n",
       "      <td>Name Abadi</td>\n",
       "      <td>Speakers worldwide 2900</td>\n",
       "    </tr>\n",
       "    <tr>\n",
       "      <th>2</th>\n",
       "      <td>ISO Alpha-3/5 mij</td>\n",
       "      <td>Name Abar</td>\n",
       "      <td>Speakers worldwide 1900</td>\n",
       "    </tr>\n",
       "    <tr>\n",
       "      <th>3</th>\n",
       "      <td>ISO Alpha-3/5 abk</td>\n",
       "      <td>Name Abkhazian</td>\n",
       "      <td>Speakers worldwide 113000</td>\n",
       "    </tr>\n",
       "    <tr>\n",
       "      <th>4</th>\n",
       "      <td>ISO Alpha-3/5 kgr</td>\n",
       "      <td>Name Abun</td>\n",
       "      <td>Speakers worldwide 3000</td>\n",
       "    </tr>\n",
       "  </tbody>\n",
       "</table>\n",
       "</div>"
      ],
      "text/plain": [
       "    ISO Alpha-3/5 ▲▼          Name ▲      Speakers worldwide ▲▼\n",
       "0   ISO Alpha-3/5 ▲▼          Name ▲      Speakers worldwide ▲▼\n",
       "1  ISO Alpha-3/5 kbt      Name Abadi    Speakers worldwide 2900\n",
       "2  ISO Alpha-3/5 mij       Name Abar    Speakers worldwide 1900\n",
       "3  ISO Alpha-3/5 abk  Name Abkhazian  Speakers worldwide 113000\n",
       "4  ISO Alpha-3/5 kgr       Name Abun    Speakers worldwide 3000"
      ]
     },
     "execution_count": 48,
     "metadata": {},
     "output_type": "execute_result"
    }
   ],
   "source": [
    "df.head()"
   ]
  },
  {
   "cell_type": "code",
   "execution_count": 49,
   "metadata": {},
   "outputs": [],
   "source": [
    "df.columns = df.columns.str.replace(r'▲▼|▲|▼', '', regex=True)\n",
    "df = df.replace(r'▲▼|▲|▼', '', regex=True)"
   ]
  },
  {
   "cell_type": "code",
   "execution_count": 50,
   "metadata": {},
   "outputs": [
    {
     "data": {
      "text/html": [
       "<div>\n",
       "<style scoped>\n",
       "    .dataframe tbody tr th:only-of-type {\n",
       "        vertical-align: middle;\n",
       "    }\n",
       "\n",
       "    .dataframe tbody tr th {\n",
       "        vertical-align: top;\n",
       "    }\n",
       "\n",
       "    .dataframe thead th {\n",
       "        text-align: right;\n",
       "    }\n",
       "</style>\n",
       "<table border=\"1\" class=\"dataframe\">\n",
       "  <thead>\n",
       "    <tr style=\"text-align: right;\">\n",
       "      <th></th>\n",
       "      <th>ISO Alpha-3/5</th>\n",
       "      <th>Name</th>\n",
       "      <th>Speakers worldwide</th>\n",
       "    </tr>\n",
       "  </thead>\n",
       "  <tbody>\n",
       "    <tr>\n",
       "      <th>0</th>\n",
       "      <td>ISO Alpha-3/5</td>\n",
       "      <td>Name</td>\n",
       "      <td>Speakers worldwide</td>\n",
       "    </tr>\n",
       "    <tr>\n",
       "      <th>1</th>\n",
       "      <td>ISO Alpha-3/5 kbt</td>\n",
       "      <td>Name Abadi</td>\n",
       "      <td>Speakers worldwide 2900</td>\n",
       "    </tr>\n",
       "    <tr>\n",
       "      <th>2</th>\n",
       "      <td>ISO Alpha-3/5 mij</td>\n",
       "      <td>Name Abar</td>\n",
       "      <td>Speakers worldwide 1900</td>\n",
       "    </tr>\n",
       "    <tr>\n",
       "      <th>3</th>\n",
       "      <td>ISO Alpha-3/5 abk</td>\n",
       "      <td>Name Abkhazian</td>\n",
       "      <td>Speakers worldwide 113000</td>\n",
       "    </tr>\n",
       "    <tr>\n",
       "      <th>4</th>\n",
       "      <td>ISO Alpha-3/5 kgr</td>\n",
       "      <td>Name Abun</td>\n",
       "      <td>Speakers worldwide 3000</td>\n",
       "    </tr>\n",
       "  </tbody>\n",
       "</table>\n",
       "</div>"
      ],
      "text/plain": [
       "      ISO Alpha-3/5            Name         Speakers worldwide \n",
       "0     ISO Alpha-3/5            Name         Speakers worldwide \n",
       "1  ISO Alpha-3/5 kbt      Name Abadi    Speakers worldwide 2900\n",
       "2  ISO Alpha-3/5 mij       Name Abar    Speakers worldwide 1900\n",
       "3  ISO Alpha-3/5 abk  Name Abkhazian  Speakers worldwide 113000\n",
       "4  ISO Alpha-3/5 kgr       Name Abun    Speakers worldwide 3000"
      ]
     },
     "execution_count": 50,
     "metadata": {},
     "output_type": "execute_result"
    }
   ],
   "source": [
    "df.head()"
   ]
  },
  {
   "cell_type": "code",
   "execution_count": 51,
   "metadata": {},
   "outputs": [],
   "source": [
    "df = df[1:]"
   ]
  },
  {
   "cell_type": "code",
   "execution_count": 52,
   "metadata": {},
   "outputs": [
    {
     "data": {
      "text/html": [
       "<div>\n",
       "<style scoped>\n",
       "    .dataframe tbody tr th:only-of-type {\n",
       "        vertical-align: middle;\n",
       "    }\n",
       "\n",
       "    .dataframe tbody tr th {\n",
       "        vertical-align: top;\n",
       "    }\n",
       "\n",
       "    .dataframe thead th {\n",
       "        text-align: right;\n",
       "    }\n",
       "</style>\n",
       "<table border=\"1\" class=\"dataframe\">\n",
       "  <thead>\n",
       "    <tr style=\"text-align: right;\">\n",
       "      <th></th>\n",
       "      <th>ISO Alpha-3/5</th>\n",
       "      <th>Name</th>\n",
       "      <th>Speakers worldwide</th>\n",
       "    </tr>\n",
       "  </thead>\n",
       "  <tbody>\n",
       "    <tr>\n",
       "      <th>1</th>\n",
       "      <td>ISO Alpha-3/5 kbt</td>\n",
       "      <td>Name Abadi</td>\n",
       "      <td>Speakers worldwide 2900</td>\n",
       "    </tr>\n",
       "    <tr>\n",
       "      <th>2</th>\n",
       "      <td>ISO Alpha-3/5 mij</td>\n",
       "      <td>Name Abar</td>\n",
       "      <td>Speakers worldwide 1900</td>\n",
       "    </tr>\n",
       "    <tr>\n",
       "      <th>3</th>\n",
       "      <td>ISO Alpha-3/5 abk</td>\n",
       "      <td>Name Abkhazian</td>\n",
       "      <td>Speakers worldwide 113000</td>\n",
       "    </tr>\n",
       "    <tr>\n",
       "      <th>4</th>\n",
       "      <td>ISO Alpha-3/5 kgr</td>\n",
       "      <td>Name Abun</td>\n",
       "      <td>Speakers worldwide 3000</td>\n",
       "    </tr>\n",
       "    <tr>\n",
       "      <th>5</th>\n",
       "      <td>ISO Alpha-3/5 mgj</td>\n",
       "      <td>Name Abureni</td>\n",
       "      <td>Speakers worldwide 4000</td>\n",
       "    </tr>\n",
       "  </tbody>\n",
       "</table>\n",
       "</div>"
      ],
      "text/plain": [
       "      ISO Alpha-3/5            Name         Speakers worldwide \n",
       "1  ISO Alpha-3/5 kbt      Name Abadi    Speakers worldwide 2900\n",
       "2  ISO Alpha-3/5 mij       Name Abar    Speakers worldwide 1900\n",
       "3  ISO Alpha-3/5 abk  Name Abkhazian  Speakers worldwide 113000\n",
       "4  ISO Alpha-3/5 kgr       Name Abun    Speakers worldwide 3000\n",
       "5  ISO Alpha-3/5 mgj    Name Abureni    Speakers worldwide 4000"
      ]
     },
     "execution_count": 52,
     "metadata": {},
     "output_type": "execute_result"
    }
   ],
   "source": [
    "df.head()"
   ]
  },
  {
   "cell_type": "code",
   "execution_count": 53,
   "metadata": {},
   "outputs": [],
   "source": [
    "for col in df.columns:\n",
    "    df[col] = df[col].str.replace(f'^{col}\\\\s*', '', regex=True)"
   ]
  },
  {
   "cell_type": "code",
   "execution_count": 54,
   "metadata": {},
   "outputs": [
    {
     "data": {
      "text/html": [
       "<div>\n",
       "<style scoped>\n",
       "    .dataframe tbody tr th:only-of-type {\n",
       "        vertical-align: middle;\n",
       "    }\n",
       "\n",
       "    .dataframe tbody tr th {\n",
       "        vertical-align: top;\n",
       "    }\n",
       "\n",
       "    .dataframe thead th {\n",
       "        text-align: right;\n",
       "    }\n",
       "</style>\n",
       "<table border=\"1\" class=\"dataframe\">\n",
       "  <thead>\n",
       "    <tr style=\"text-align: right;\">\n",
       "      <th></th>\n",
       "      <th>ISO Alpha-3/5</th>\n",
       "      <th>Name</th>\n",
       "      <th>Speakers worldwide</th>\n",
       "    </tr>\n",
       "  </thead>\n",
       "  <tbody>\n",
       "    <tr>\n",
       "      <th>1</th>\n",
       "      <td>kbt</td>\n",
       "      <td>Abadi</td>\n",
       "      <td>2900</td>\n",
       "    </tr>\n",
       "    <tr>\n",
       "      <th>2</th>\n",
       "      <td>mij</td>\n",
       "      <td>Abar</td>\n",
       "      <td>1900</td>\n",
       "    </tr>\n",
       "    <tr>\n",
       "      <th>3</th>\n",
       "      <td>abk</td>\n",
       "      <td>Abkhazian</td>\n",
       "      <td>113000</td>\n",
       "    </tr>\n",
       "    <tr>\n",
       "      <th>4</th>\n",
       "      <td>kgr</td>\n",
       "      <td>Abun</td>\n",
       "      <td>3000</td>\n",
       "    </tr>\n",
       "    <tr>\n",
       "      <th>5</th>\n",
       "      <td>mgj</td>\n",
       "      <td>Abureni</td>\n",
       "      <td>4000</td>\n",
       "    </tr>\n",
       "  </tbody>\n",
       "</table>\n",
       "</div>"
      ],
      "text/plain": [
       "  ISO Alpha-3/5       Name  Speakers worldwide \n",
       "1            kbt      Abadi                2900\n",
       "2            mij       Abar                1900\n",
       "3            abk  Abkhazian              113000\n",
       "4            kgr       Abun                3000\n",
       "5            mgj    Abureni                4000"
      ]
     },
     "execution_count": 54,
     "metadata": {},
     "output_type": "execute_result"
    }
   ],
   "source": [
    "df.head()"
   ]
  },
  {
   "cell_type": "code",
   "execution_count": 55,
   "metadata": {},
   "outputs": [
    {
     "name": "stdout",
     "output_type": "stream",
     "text": [
      "     ISO Alpha-3/5             Name  Speakers worldwide \n",
      "1               kbt            Abadi                2900\n",
      "2               mij             Abar                1900\n",
      "3               abk        Abkhazian              113000\n",
      "4               kgr             Abun                3000\n",
      "5               mgj          Abureni                4000\n",
      "...             ...              ...                 ...\n",
      "6415            zuy           Zumaya             No data\n",
      "6416            jmb           Zumbun                2000\n",
      "6417            zun             Zuni                9700\n",
      "6418            zzj  Zuojiang Zhuang             1800000\n",
      "6419            zyp       Zyphe Chin               20000\n",
      "\n",
      "[6419 rows x 3 columns]\n"
     ]
    }
   ],
   "source": [
    "print(df)"
   ]
  },
  {
   "cell_type": "code",
   "execution_count": 57,
   "metadata": {},
   "outputs": [
    {
     "data": {
      "text/plain": [
       "'Adamawa Fulfulde'"
      ]
     },
     "execution_count": 57,
     "metadata": {},
     "output_type": "execute_result"
    }
   ],
   "source": [
    "df['Name '][9]"
   ]
  },
  {
   "cell_type": "code",
   "execution_count": 58,
   "metadata": {},
   "outputs": [
    {
     "name": "stdout",
     "output_type": "stream",
     "text": [
      "Index(['ISO Alpha-3/5', 'Name', 'Speakers worldwide'], dtype='object')\n"
     ]
    }
   ],
   "source": [
    "df.columns = df.columns.str.strip()\n",
    "\n",
    "# Verify changes\n",
    "print(df.columns)"
   ]
  },
  {
   "cell_type": "code",
   "execution_count": 59,
   "metadata": {},
   "outputs": [],
   "source": [
    "df.to_csv('language_speakers_data.csv', index=False)"
   ]
  },
  {
   "cell_type": "code",
   "execution_count": null,
   "metadata": {},
   "outputs": [],
   "source": []
  }
 ],
 "metadata": {
  "kernelspec": {
   "display_name": "Python 3",
   "language": "python",
   "name": "python3"
  },
  "language_info": {
   "codemirror_mode": {
    "name": "ipython",
    "version": 3
   },
   "file_extension": ".py",
   "mimetype": "text/x-python",
   "name": "python",
   "nbconvert_exporter": "python",
   "pygments_lexer": "ipython3",
   "version": "3.8.5"
  }
 },
 "nbformat": 4,
 "nbformat_minor": 4
}
